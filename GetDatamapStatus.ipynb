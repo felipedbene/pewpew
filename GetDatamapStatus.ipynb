{
 "cells": [
  {
   "cell_type": "code",
   "execution_count": 1,
   "metadata": {},
   "outputs": [],
   "source": [
    "import pandas as pd\n",
    "import os"
   ]
  },
  {
   "cell_type": "code",
   "execution_count": 2,
   "metadata": {},
   "outputs": [],
   "source": [
    "level = {\n",
    "    'critical':4,\n",
    "    'high':3,\n",
    "    'medium':2,\n",
    "    'low':1,\n",
    "    'informational':0    \n",
    "}"
   ]
  },
  {
   "cell_type": "code",
   "execution_count": 3,
   "metadata": {},
   "outputs": [],
   "source": [
    "color_code = {'critical':\"#d21231\", #red\n",
    "                  'high':\"#ff6500\",  #orange\n",
    "                 'medium': \"#e0ec00\", #yellow\n",
    "                 'low':\"#69a892\", #green\n",
    "                 'informational':\"#5992bf\"} #blue"
   ]
  },
  {
   "cell_type": "code",
   "execution_count": 4,
   "metadata": {},
   "outputs": [],
   "source": [
    "def getTop(df,column):\n",
    "    \n",
    "    b = a[column]\n",
    "\n",
    "    c = b.value_counts()\n",
    "\n",
    "    d = c.to_frame()\n",
    "\n",
    "    d['label'] = d.index\n",
    "\n",
    "    d.rename(index=str,columns={column:'y'},inplace=True)\n",
    "\n",
    "    d.reset_index(drop=True,inplace=True)\n",
    "    \n",
    "    return d"
   ]
  },
  {
   "cell_type": "code",
   "execution_count": 5,
   "metadata": {},
   "outputs": [],
   "source": [
    "a = pd.read_json(os.path.expanduser('~/NorsePi/XML/LastHour.json'),orient='index')"
   ]
  },
  {
   "cell_type": "code",
   "execution_count": 6,
   "metadata": {},
   "outputs": [],
   "source": [
    "total = a.count()[0]"
   ]
  },
  {
   "cell_type": "code",
   "execution_count": 7,
   "metadata": {},
   "outputs": [],
   "source": [
    "subtype = getTop(a,'subtype')"
   ]
  },
  {
   "cell_type": "code",
   "execution_count": 8,
   "metadata": {},
   "outputs": [],
   "source": [
    "countries = getTop(a,'srcname').head()"
   ]
  },
  {
   "cell_type": "code",
   "execution_count": 9,
   "metadata": {},
   "outputs": [],
   "source": [
    "category = getTop(a,'severity')\n",
    "\n",
    "category.rename(columns={'label':'color'},inplace=True)\n",
    "\n",
    "category['y']=category['y'].map(lambda x : round(x/category['y'].sum()*100,2))"
   ]
  },
  {
   "cell_type": "code",
   "execution_count": 10,
   "metadata": {},
   "outputs": [],
   "source": [
    "subtype.to_json(os.path.expanduser('~/NorsePi/XML/TopType.json'),orient='records')\n",
    "countries.to_json(os.path.expanduser('~/NorsePi/XML/TopCountries.json'),orient='records')\n",
    "category.to_json(os.path.expanduser('~/NorsePi/XML/TopCategory.json'),orient='records')\n",
    "\n",
    "with open(os.path.expanduser('~/NorsePi/XML/TotalAttacks.txt'), \"w\") as text_file:\n",
    "    print(f\"{total}\", file=text_file)"
   ]
  },
  {
   "cell_type": "code",
   "execution_count": null,
   "metadata": {},
   "outputs": [],
   "source": []
  }
 ],
 "metadata": {
  "kernelspec": {
   "display_name": "Python 3",
   "language": "python",
   "name": "python3"
  },
  "language_info": {
   "codemirror_mode": {
    "name": "ipython",
    "version": 3
   },
   "file_extension": ".py",
   "mimetype": "text/x-python",
   "name": "python",
   "nbconvert_exporter": "python",
   "pygments_lexer": "ipython3",
   "version": "3.6.6"
  }
 },
 "nbformat": 4,
 "nbformat_minor": 2
}
