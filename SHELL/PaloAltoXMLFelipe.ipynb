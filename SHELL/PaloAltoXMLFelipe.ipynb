{
 "cells": [
  {
   "cell_type": "code",
   "execution_count": 1,
   "metadata": {},
   "outputs": [],
   "source": [
    "import configparser\n",
    "import os\n",
    "import random\n",
    "import sys\n",
    "import time\n",
    "from datetime import datetime, timedelta"
   ]
  },
  {
   "cell_type": "code",
   "execution_count": 2,
   "metadata": {},
   "outputs": [],
   "source": [
    "import numpy as np\n",
    "import pandas as pd\n",
    "import pgcli as psycopg2\n",
    "import requests\n",
    "import sqlalchemy\n",
    "import urllib3\n",
    "import xmltodict\n",
    "from dateutil import parser\n",
    "from sqlalchemy import create_engine"
   ]
  },
  {
   "cell_type": "code",
   "execution_count": 3,
   "metadata": {},
   "outputs": [],
   "source": [
    "def xmlParser(file=''):\n",
    "    color_code = {'critical':'#ff4660', #red\n",
    "                  'high':'#f48154',  #orange\n",
    "                 'medium':'#d9ff7f', #yellow\n",
    "                 'low':'#42ff58', #green\n",
    "                 'informational':'#54ba8a'} #blue"
   ]
  },
  {
   "cell_type": "code",
   "execution_count": 4,
   "metadata": {},
   "outputs": [],
   "source": [
    "def xmlParser(file=''):\n",
    "    color_code = {'critical':'#ff4660', #red\n",
    "                  'high':'#f48154',  #orange\n",
    "                 'medium':'#d9ff7f', #yellow\n",
    "                 'low':'#42ff58', #green\n",
    "                 'informational':'#54ba8a'} #blue\n",
    "\n",
    "\n",
    "    print(doc)"
   ]
  },
  {
   "cell_type": "code",
   "execution_count": 5,
   "metadata": {},
   "outputs": [],
   "source": [
    "def getJob(firewall, token, maxlogs, N=15):\n",
    "\n",
    "    print('Getting last {} minutes job...'.format(N))\n",
    "    last_hour_date_time = datetime.now() - timedelta(minutes = int(N))\n",
    "    last_hour_date_time = last_hour_date_time.strftime('%Y/%m/%d %H:%M:%S')\n",
    "    query=\"(receive_time geq '{}' and !( addr.src in 10.0.0.0/8 ) )\".format(last_hour_date_time)\n",
    "    print(\"Doing the query : '\" + query + \"'\")\n",
    "    url = \"https://{}/api/\".format(firewall)\n",
    "\n",
    "    querystring = {\"type\":\"log\",\n",
    "                   \"log-type\":\"threat\",\n",
    "                   \"query\":\"{}\".format(query),\n",
    "                   \"nlogs\":\"{}\".format(maxlogs),\n",
    "                   \"key\":\"{}\".format(token)}\n",
    "    headers = {\n",
    "        'Cache-Control': \"no-cache\",\n",
    "        'Postman-Token': \"6d9f5953-46da-4ec6-a965-e539279c2d66\"\n",
    "        }\n",
    "\n",
    "    try :    \n",
    "        response = requests.request(\"GET\", url, headers=headers, params=querystring,verify=False)\n",
    "    except :\n",
    "        print(\"I couldn't schedule the first job, quitting !\")\n",
    "        return False\n",
    "\n",
    "    xml = response.text\n",
    "    jsonDict = xmltodict.parse(xml)\n",
    "    if jsonDict[\"response\"][\"@status\"] == \"success\" :\n",
    "        job = jsonDict[\"response\"][\"result\"][\"job\"]\n",
    "    print('Finished.')\n",
    "    print('#job:{}'.format(job))\n",
    "    return job"
   ]
  },
  {
   "cell_type": "code",
   "execution_count": 6,
   "metadata": {},
   "outputs": [],
   "source": [
    "def waitXML(firewall, token, job, maxlogs,timeout=60):\n",
    "    print('Waiting for XML...')\n",
    "    progress = 0\n",
    "    \n",
    "    url = \"https://{}/api/\".format(firewall)\n",
    "    querystring = {\"type\":\"log\",\n",
    "                   \"action\":\"get\",\n",
    "                   \"job-id\":\"{}\".format(job),\n",
    "                   \"nlogs\":\"{}\".format(maxlogs),\n",
    "                   \"key\":\"{}\".format(token)}\n",
    "    headers = {\n",
    "        'Cache-Control': \"no-cache\",\n",
    "        'Postman-Token': \"073a8ee1-8d6f-4e46-b051-f14eaca30de2\"\n",
    "        }\n",
    "    jobstatus = ''\n",
    "    a = datetime.now() + timedelta(seconds = timeout)\n",
    "\n",
    "    # Wait for the FIN and/or Timeout\n",
    "    while jobstatus != 'FIN' and datetime.now() < a:\n",
    "        try :\n",
    "            response = requests.request(\"GET\", url, headers=headers, params=querystring,verify=False)\n",
    "            xml = response.text\n",
    "            jsonDict = xmltodict.parse(xml)\n",
    "\n",
    "            resultstatus = jsonDict[\"response\"][\"@status\"]\n",
    "            if resultstatus == \"success\" :\n",
    "                jobstatus = jsonDict[\"response\"][\"result\"][\"job\"][\"status\"]\n",
    "                print( \"Status:\" + str(jobstatus) )\n",
    "            else :\n",
    "                jobstatus = \"fail\"\n",
    "                return False\n",
    "\n",
    "            time.sleep(1)\n",
    "            if datetime.now() > a:\n",
    "                print('Timeout Error!')\n",
    "                return False\n",
    "        except :\n",
    "            print(\"Couldn't get job status\") \n",
    "    print('Status:%\\t{}'.format(jobstatus))\n",
    "    \n",
    "    #Last get to the get the results:\n",
    "    print('Done!')\n",
    "\n",
    "    return True"
   ]
  },
  {
   "cell_type": "code",
   "execution_count": 7,
   "metadata": {},
   "outputs": [],
   "source": [
    "def getDBEngine() :\n",
    "    # Getting requirements\n",
    "    config = configparser.ConfigParser()    # Getting requirements\n",
    "\n",
    "    # Reading config file\n",
    "    config.read(os.path.expanduser('~/code/NorsePi/config.ini'))\n",
    "\n",
    "    #Setting Parameters based on the config files\n",
    "    dbName = config[\"DB\"]['dbName']\n",
    "    dbUser= config[\"DB\"]['dbUser']\n",
    "    dbPass= config[\"DB\"]['dbPass']\n",
    "    dbHost= config[\"DB\"]['dbHost']\n",
    "    dbPort= config[\"DB\"]['dbPort']\n",
    "\n",
    "    engine = create_engine('postgres://' + dbUser + ':' + dbPass + \"@\" + dbHost+ \":\"+ dbPort +\"/\"+ dbName)\n",
    "    \n",
    "    return engine"
   ]
  },
  {
   "cell_type": "code",
   "execution_count": 16,
   "metadata": {},
   "outputs": [],
   "source": [
    "def writeToDB(entry):\n",
    "    engine = getDBEngine()\n",
    "    \n",
    "    #read what is already there\n",
    "    df = pd.DataFrame.from_dict(entry)\n",
    "    df3 = df[ [\"srcloc\",'@logid'] ]\n",
    "    \n",
    "    for idx,i in enumerate(df['srcloc']):\n",
    "        df3['srcloc'][idx] = i['@cc']\n",
    "   \n",
    "    df2 = df[ ['time_received','severity','threatid','device_name','src','dst','subtype','@logid']]\n",
    "    df4 = pd.concat( [df2,df3],axis=1 )\n",
    "    df4['time_received'] =  pd.to_datetime(df4.time_received)\n",
    "    df4.to_sql(name=\"events\",con=engine,schema=\"public\",if_exists=\"append\",index=True)\n",
    "    return df4\n"
   ]
  },
  {
   "cell_type": "code",
   "execution_count": 9,
   "metadata": {},
   "outputs": [],
   "source": [
    "def removeDup() :\n",
    "    engine = getDBEngine()\n",
    "    # sorting \n",
    "    data = pd.read_sql(\"events\",con=engine)\n",
    "    data.sort_values(\"time_received\", inplace = False, ascending=False)\n",
    "    data.drop_duplicates(subset = [\"time_received\",\"threatid\",\"src\",\"dst\"], keep = False, inplace = False)\n",
    "    data.to_sql(name=\"events\",con=engine,schema=\"public\",if_exists=\"replace\",index=False)\n",
    "    #print(data)"
   ]
  },
  {
   "cell_type": "code",
   "execution_count": 10,
   "metadata": {},
   "outputs": [],
   "source": [
    "def getThreats(firewall, token, job, maxlogs):\n",
    "    print('Getting XML...')\n",
    "    threats = {}\n",
    "    url = \"https://{}/api/\".format(firewall)\n",
    "    querystring = {\"type\":\"log\",\n",
    "                   \"action\":\"get\",\n",
    "                   \"job-id\":\"{}\".format(job),\n",
    "                   \"nlogs\":\"{}\".format(maxlogs),\n",
    "                   \"key\":\"{}\".format(token)}\n",
    "    headers = {\n",
    "        'Cache-Control': \"no-cache\",\n",
    "        'Postman-Token': \"ccde3eea-27cc-4594-802a-6d4a721d6895\"\n",
    "        }\n",
    "\n",
    "    try :\n",
    "        response = requests.request(\"GET\", url, headers=headers, params=querystring,verify=False)\n",
    "    except :\n",
    "        print(\"Error trying to get the resulting xml\")\n",
    "        \n",
    "    \n",
    "    xml = response.text\n",
    "    jsonDict = xmltodict.parse(xml)\n",
    "    total = int(jsonDict[\"response\"][\"result\"][\"log\"][\"logs\"][\"@count\"])\n",
    "    \n",
    "    if total > 0 :\n",
    "        threats = jsonDict[\"response\"][\"result\"][\"log\"][\"logs\"][\"entry\"]\n",
    "                              \n",
    "    else :\n",
    "        print(\"No new threats for now\")\n",
    "        \n",
    "\n",
    "    return threats"
   ]
  },
  {
   "cell_type": "code",
   "execution_count": 11,
   "metadata": {},
   "outputs": [],
   "source": [
    "def timeRandom(tiempo):\n",
    "    ahora = datetime.now()\n",
    "    randomTime = timedelta(seconds = random.uniform(0, tiempo*60))\n",
    "    return ahora - randomTime"
   ]
  },
  {
   "cell_type": "code",
   "execution_count": 12,
   "metadata": {},
   "outputs": [],
   "source": [
    "def getSetTime(tiempo = 150):\n",
    "    return str(tiempo)"
   ]
  },
  {
   "cell_type": "code",
   "execution_count": 13,
   "metadata": {},
   "outputs": [],
   "source": [
    "def getToken(tokenFile):\n",
    "    with open(tokenFile,'r') as file:\n",
    "        token = file.read()\n",
    "    return token"
   ]
  },
  {
   "cell_type": "code",
   "execution_count": null,
   "metadata": {},
   "outputs": [],
   "source": [
    "if __name__ == '__main__':\n",
    "\n",
    "    # Getting requirements\n",
    "    config = configparser.ConfigParser()\n",
    "    urllib3.disable_warnings()\n",
    "\n",
    "    # Reading config file\n",
    "    config.read(os.path.expanduser('~/code/NorsePi/config.ini'))\n",
    "\n",
    "    #Setting Parameters based on the config files\n",
    "    firewall = config[\"DEFAULT\"]['Panorama']\n",
    "    maxlogs=config[\"LOGS\"]['maxlogs']\n",
    "    tokenFile=os.path.expanduser(config[\"DEFAULT\"][\"tokenFile\"])\n",
    "\n",
    "    #Calculate remaing Parameters\n",
    "    tiempo = getSetTime(5)\n",
    "    token = getToken(tokenFile)\n",
    "    # Start do stuff\n",
    "    # Get JobID\n",
    "    job = getJob(firewall,token,maxlogs,N=tiempo)\n",
    "\n",
    "    #Send the job and wait it to get done\n",
    "    if waitXML(firewall,token,job,maxlogs) :\n",
    "        print (\"Done waiting :)\")\n",
    "\n",
    "        #This is the sucess part to finally get the results\n",
    "        threats = getThreats(firewall,token,job,maxlogs)\n",
    "        \n",
    "        # Write all to DB in one shot\n",
    "        try :\n",
    "            newThreats = len(threats)\n",
    "            print(\"Writing \" + str(newThreats) + \" to DB.\")\n",
    "            if newThreats > 0 :\n",
    "                writeToDB(threats)\n",
    "        except Exception as e:\n",
    "            print(\"Not writing to DB, no new data\")\n",
    "            print(e)\n",
    "    \n",
    "    else :\n",
    "        print(\"Fail to get XML: Job failed !!!\")\n",
    "    \n",
    "    #Remove Duplicates from Database\n",
    "    removeDup()"
   ]
  },
  {
   "cell_type": "code",
   "execution_count": 17,
   "metadata": {},
   "outputs": [
    {
     "name": "stdout",
     "output_type": "stream",
     "text": [
      "Getting last 5 minutes job...\n",
      "Doing the query : '(receive_time geq '2018/12/03 12:53:04' and !( addr.src in 10.0.0.0/8 ) )'\n",
      "Finished.\n",
      "#job:510\n",
      "Waiting for XML...\n",
      "Status:ACT\n",
      "Status:ACT\n",
      "Status:FIN\n",
      "Status:%\tFIN\n",
      "Done!\n",
      "Done waiting :)\n",
      "Getting XML...\n",
      "Writing 3 to DB.\n"
     ]
    },
    {
     "name": "stderr",
     "output_type": "stream",
     "text": [
      "/home/gabriel/.local/share/virtualenvs/NorsePi-1vsG2X5_/lib/python3.6/site-packages/ipykernel_launcher.py:32: SettingWithCopyWarning: \n",
      "A value is trying to be set on a copy of a slice from a DataFrame\n",
      "\n",
      "See the caveats in the documentation: http://pandas.pydata.org/pandas-docs/stable/indexing.html#indexing-view-versus-copy\n"
     ]
    }
   ],
   "source": [
    "# Getting requirements\n",
    "config = configparser.ConfigParser()\n",
    "urllib3.disable_warnings()\n",
    "\n",
    "# Reading config file\n",
    "config.read(os.path.expanduser('~/code/NorsePi/config.ini'))\n",
    "\n",
    "#Setting Parameters based on the config files\n",
    "firewall = config[\"DEFAULT\"]['Panorama']\n",
    "maxlogs=config[\"LOGS\"]['maxlogs']\n",
    "tokenFile=os.path.expanduser(config[\"DEFAULT\"][\"tokenFile\"])\n",
    "\n",
    "#Calculate remaing Parameters\n",
    "tiempo = getSetTime(5)\n",
    "token = getToken(tokenFile)\n",
    "# Start do stuff\n",
    "# Get JobID\n",
    "job = getJob(firewall,token,maxlogs,N=tiempo)\n",
    "\n",
    "#Send the job and wait it to get done\n",
    "if waitXML(firewall,token,job,maxlogs) :\n",
    "    print (\"Done waiting :)\")\n",
    "\n",
    "    #This is the sucess part to finally get the results\n",
    "    threats = getThreats(firewall,token,job,maxlogs)\n",
    "\n",
    "    # Write all to DB in one shot\n",
    "    try :\n",
    "        newThreats = len(threats)\n",
    "        print(\"Writing \" + str(newThreats) + \" to DB.\")\n",
    "        if newThreats > 0 :\n",
    "            df = writeToDB(threats)\n",
    "    except Exception as e:\n",
    "        print(\"Not writing to DB, no new data\")\n",
    "        print(e)\n",
    "\n",
    "else :\n",
    "    print(\"Fail to get XML: Job failed !!!\")"
   ]
  },
  {
   "cell_type": "code",
   "execution_count": 24,
   "metadata": {},
   "outputs": [],
   "source": [
    "df['time_received'] =  pd.to_datetime(df.time_received) "
   ]
  },
  {
   "cell_type": "code",
   "execution_count": 29,
   "metadata": {},
   "outputs": [
    {
     "data": {
      "text/plain": [
       "dtype('<M8[ns]')"
      ]
     },
     "execution_count": 29,
     "metadata": {},
     "output_type": "execute_result"
    }
   ],
   "source": []
  },
  {
   "cell_type": "code",
   "execution_count": null,
   "metadata": {},
   "outputs": [],
   "source": [
    "#Remove Duplicates from Database\n",
    "removeDup()"
   ]
  }
 ],
 "metadata": {
  "kernelspec": {
   "display_name": "Python 3",
   "language": "python",
   "name": "python3"
  },
  "language_info": {
   "codemirror_mode": {
    "name": "ipython",
    "version": 3
   },
   "file_extension": ".py",
   "mimetype": "text/x-python",
   "name": "python",
   "nbconvert_exporter": "python",
   "pygments_lexer": "ipython3",
   "version": "3.6.6"
  }
 },
 "nbformat": 4,
 "nbformat_minor": 2
}
