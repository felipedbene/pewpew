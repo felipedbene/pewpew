{
 "cells": [
  {
   "cell_type": "code",
   "execution_count": 48,
   "metadata": {},
   "outputs": [],
   "source": [
    "import requests\n",
    "import os\n",
    "import getpass"
   ]
  },
  {
   "cell_type": "code",
   "execution_count": 50,
   "metadata": {},
   "outputs": [
    {
     "name": "stdout",
     "output_type": "stream",
     "text": [
      "IP de palo alto (e.g. 8.8.8.8):8.8.8.8\n",
      "Usuario:gabo\n",
      "Contraseña:········\n",
      "key not found. Check if username and password are correct and try again\n",
      "response:\n",
      "<!DOCTYPE html>\n",
      "<html lang=en>\n",
      "  <meta charset=utf-8>\n",
      "  <meta name=viewport content=\"initial-scale=1, minimum-scale=1, width=device-width\">\n",
      "  <title>Error 404 (Not Found)!!1</title>\n",
      "  <style>\n",
      "    *{margin:0;padding:0}html,code{font:15px/22px arial,sans-serif}html{background:#fff;color:#222;padding:15px}body{margin:7% auto 0;max-width:390px;min-height:180px;padding:30px 0 15px}* > body{background:url(//www.google.com/images/errors/robot.png) 100% 5px no-repeat;padding-right:205px}p{margin:11px 0 22px;overflow:hidden}ins{color:#777;text-decoration:none}a img{border:0}@media screen and (max-width:772px){body{background:none;margin-top:0;max-width:none;padding-right:0}}#logo{background:url(//www.google.com/images/branding/googlelogo/1x/googlelogo_color_150x54dp.png) no-repeat;margin-left:-5px}@media only screen and (min-resolution:192dpi){#logo{background:url(//www.google.com/images/branding/googlelogo/2x/googlelogo_color_150x54dp.png) no-repeat 0% 0%/100% 100%;-moz-border-image:url(//www.google.com/images/branding/googlelogo/2x/googlelogo_color_150x54dp.png) 0}}@media only screen and (-webkit-min-device-pixel-ratio:2){#logo{background:url(//www.google.com/images/branding/googlelogo/2x/googlelogo_color_150x54dp.png) no-repeat;-webkit-background-size:100% 100%}}#logo{display:inline-block;height:54px;width:150px}\n",
      "  </style>\n",
      "  <a href=//www.google.com/><span id=logo aria-label=Google></span></a>\n",
      "  <p><b>404.</b> <ins>That’s an error.</ins>\n",
      "  <p>The requested URL <code>/api/</code> was not found on this server.  <ins>That’s all we know.</ins>\n",
      "\n"
     ]
    },
    {
     "name": "stderr",
     "output_type": "stream",
     "text": [
      "/home/gabriel/.local/share/virtualenvs/gabriel-CxzOgIT4/lib/python3.6/site-packages/urllib3/connectionpool.py:857: InsecureRequestWarning: Unverified HTTPS request is being made. Adding certificate verification is strongly advised. See: https://urllib3.readthedocs.io/en/latest/advanced-usage.html#ssl-warnings\n",
      "  InsecureRequestWarning)\n"
     ]
    }
   ],
   "source": [
    "if __name__ == '__main__':\n",
    "    \"\"\"\n",
    "    Programa utilizado para generar tokens de palo alto.\n",
    "    Generado por Postman\n",
    "    \"\"\"\n",
    "    ip = input('IP de palo alto (e.g. 8.8.8.8):')\n",
    "\n",
    "    url = \"https://{}/api/\".format(ip)\n",
    "\n",
    "    querystring = {\"type\":\"keygen\"}\n",
    "    querystring[\"user\"] = input('Usuario:')\n",
    "    querystring[\"password\"] = getpass.getpass('Contraseña:')\n",
    "    \n",
    "    headers = {\n",
    "        'Cache-Control': \"no-cache\",\n",
    "        'Postman-Token': \"63c1fdd6-6792-4498-b423-72ee6a5e152e\"\n",
    "        }\n",
    "    response = requests.request(\"GET\", url, headers=headers, params=querystring,verify=False)\n",
    "    xml = response.text\n",
    "    \n",
    "    if 'key' in xml:\n",
    "        print('Key found! Printing to hidden file...')\n",
    "        token = xml.split('key')[1].split('>')[1].split('<')[0]\n",
    "        with open(os.path.expanduser('~/NorsePi/SHELL/.tok.tmp'),'w') as file:\n",
    "            file.write(token)\n",
    "    else:\n",
    "        print('key not found. Check if username and password are correct and try again')\n",
    "        print('response:\\n{}'.format(xml))\n",
    "    "
   ]
  }
 ],
 "metadata": {
  "kernelspec": {
   "display_name": "Python 3",
   "language": "python",
   "name": "python3"
  },
  "language_info": {
   "codemirror_mode": {
    "name": "ipython",
    "version": 3
   },
   "file_extension": ".py",
   "mimetype": "text/x-python",
   "name": "python",
   "nbconvert_exporter": "python",
   "pygments_lexer": "ipython3",
   "version": "3.6.5"
  }
 },
 "nbformat": 4,
 "nbformat_minor": 2
}
