{
 "cells": [
  {
   "cell_type": "code",
   "execution_count": 59,
   "metadata": {},
   "outputs": [
    {
     "data": {
      "text/plain": [
       "'\\n\\tEl código toma el archivo recibido de palo alto como xml y lo \\n\\tconvierte a un archivo JSON que puede ser leído de manera más \\n\\tsencilla por el programa de mapa de ataques o cualquier otro que\\n\\tconsuma la info por JS\\n'"
      ]
     },
     "execution_count": 59,
     "metadata": {},
     "output_type": "execute_result"
    }
   ],
   "source": [
    "import xmltodict\n",
    "import pandas as pd\n",
    "import os\n",
    "\"\"\"\n",
    "\tEl código toma el archivo recibido de palo alto como xml y lo \n",
    "\tconvierte a un archivo JSON que puede ser leído de manera más \n",
    "\tsencilla por el programa de mapa de ataques o cualquier otro que\n",
    "\tconsuma la info por JS\n",
    "\"\"\""
   ]
  },
  {
   "cell_type": "code",
   "execution_count": 106,
   "metadata": {},
   "outputs": [],
   "source": [
    "home = os.path.expanduser('~')\n",
    "\n",
    "color_code = {'critical':'red',\n",
    "              'high':'orange',\n",
    "             'medium':'yellow',\n",
    "             'low':'green',\n",
    "             'informational':'blue'}\n",
    "default_country = 'MX'"
   ]
  },
  {
   "cell_type": "code",
   "execution_count": 107,
   "metadata": {},
   "outputs": [],
   "source": [
    "with open('{}/NorsePi/XML/LastHour.xml'.format(home)) as fd:\n",
    "\tdoc = xmltodict.parse(fd.read())\n",
    "\n",
    "reform = {(outerKey, innerKey): values for outerKey, innerDict in doc.items() for innerKey, values in innerDict.items()}\n",
    "a = pd.DataFrame(reform)\n",
    "reform = a['response']['result']['log']\n",
    "a = pd.DataFrame(reform)\n",
    "total = a['logs']['@count']\n",
    "reform = a['logs']['entry']\n",
    "df = pd.DataFrame(reform)\n",
    "#df = df.drop_duplicates(subset=['threatid','src']).reset_index(drop=True)"
   ]
  },
  {
   "cell_type": "code",
   "execution_count": 108,
   "metadata": {},
   "outputs": [],
   "source": [
    "df = df[['direction','device_name','time_generated',\"src\",'srcloc','dst','dstloc','subtype','threatid','severity']]\n",
    "df1 = df['device_name'].map(lambda x : x.split('-')[1])"
   ]
  },
  {
   "cell_type": "code",
   "execution_count": 109,
   "metadata": {},
   "outputs": [],
   "source": [
    "countries = pd.read_csv(os.path.expanduser('~/NorsePi/CSV/all_countries.csv'),sep='\\t',index_col=0)\n",
    "# countries['country'] = countries['country'].map(lambda x: x.strip())"
   ]
  },
  {
   "cell_type": "code",
   "execution_count": 110,
   "metadata": {},
   "outputs": [],
   "source": [
    "Tec = pd.read_csv(os.path.expanduser('~/NorsePi/CSV/GPSTec.csv'))"
   ]
  },
  {
   "cell_type": "code",
   "execution_count": 111,
   "metadata": {
    "scrolled": true
   },
   "outputs": [
    {
     "name": "stdout",
     "output_type": "stream",
     "text": [
      "Campus no encontrado: CAN, indice=785\n",
      "Campus no encontrado: CAN, indice=788\n",
      "Campus no encontrado: CAN, indice=792\n",
      "Pais no encontrado: alpha2=AP, indice=819\n",
      "Pais no encontrado: alpha2=AP, indice=820\n",
      "Pais no encontrado: alpha2=AP, indice=821\n",
      "Pais no encontrado: alpha2=AP, indice=960\n",
      "Pais no encontrado: alpha2=AP, indice=1020\n",
      "Pais no encontrado: alpha2=EU, indice=1614\n",
      "Campus no encontrado: CAN, indice=2145\n",
      "Pais no encontrado: alpha2=EU, indice=2398\n",
      "Campus no encontrado: CAN, indice=2514\n",
      "Campus no encontrado: CAN, indice=2517\n",
      "Campus no encontrado: CAN, indice=2520\n",
      "Pais no encontrado: alpha2=AP, indice=2751\n",
      "Campus no encontrado: CAN, indice=2955\n",
      "Campus no encontrado: CAN, indice=3027\n",
      "Campus no encontrado: CAN, indice=3253\n",
      "Campus no encontrado: CAN, indice=3275\n",
      "Campus no encontrado: CAN, indice=3282\n",
      "Campus no encontrado: CAN, indice=3320\n",
      "Campus no encontrado: CAN, indice=3346\n",
      "Campus no encontrado: CAN, indice=3347\n",
      "Campus no encontrado: CAN, indice=3349\n",
      "Campus no encontrado: CAN, indice=3352\n",
      "Campus no encontrado: CAN, indice=3353\n",
      "Campus no encontrado: CAN, indice=3369\n",
      "Campus no encontrado: CAN, indice=3438\n",
      "Campus no encontrado: CAN, indice=3439\n",
      "Pais no encontrado: alpha2=EU, indice=3568\n",
      "Campus no encontrado: CAN, indice=3643\n",
      "Campus no encontrado: CAN, indice=3671\n",
      "Campus no encontrado: CAN, indice=3703\n",
      "Campus no encontrado: CAN, indice=3734\n",
      "Campus no encontrado: CAN, indice=3739\n",
      "Campus no encontrado: CAN, indice=3792\n",
      "Campus no encontrado: CAN, indice=3799\n",
      "Campus no encontrado: CAN, indice=3803\n",
      "Campus no encontrado: CAN, indice=3814\n",
      "Campus no encontrado: CAN, indice=3827\n",
      "Pais no encontrado: alpha2=AP, indice=3836\n",
      "Pais no encontrado: alpha2=AP, indice=3837\n",
      "Pais no encontrado: alpha2=AP, indice=3838\n",
      "Campus no encontrado: CAN, indice=3898\n",
      "Campus no encontrado: CAN, indice=3910\n",
      "Campus no encontrado: CAN, indice=3925\n",
      "Campus no encontrado: CAN, indice=3967\n",
      "Campus no encontrado: CAN, indice=3970\n",
      "Campus no encontrado: CAN, indice=3982\n",
      "Campus no encontrado: CAN, indice=3993\n",
      "Campus no encontrado: CAN, indice=4001\n",
      "Campus no encontrado: CAN, indice=4003\n",
      "Campus no encontrado: CAN, indice=4004\n",
      "Campus no encontrado: CAN, indice=4005\n",
      "Campus no encontrado: CAN, indice=4079\n",
      "Campus no encontrado: CAN, indice=4175\n",
      "Campus no encontrado: CAN, indice=4192\n",
      "Campus no encontrado: CAN, indice=4199\n",
      "Pais no encontrado: alpha2=EU, indice=4224\n",
      "Campus no encontrado: CAN, indice=4226\n",
      "Campus no encontrado: CAN, indice=4238\n",
      "Campus no encontrado: CAN, indice=4268\n",
      "Campus no encontrado: CAN, indice=4274\n",
      "Pais no encontrado: alpha2=EU, indice=4305\n",
      "Campus no encontrado: CAN, indice=4309\n",
      "Campus no encontrado: CAN, indice=4312\n",
      "Campus no encontrado: CAN, indice=4328\n",
      "Campus no encontrado: CAN, indice=4334\n",
      "Campus no encontrado: CAN, indice=4417\n",
      "Campus no encontrado: CAN, indice=4419\n",
      "Campus no encontrado: CAN, indice=4420\n",
      "Campus no encontrado: CAN, indice=4435\n",
      "Campus no encontrado: CAN, indice=4444\n",
      "Campus no encontrado: CAN, indice=4445\n",
      "Campus no encontrado: CAN, indice=4450\n",
      "Campus no encontrado: CAN, indice=4465\n",
      "Campus no encontrado: CAN, indice=4481\n",
      "Campus no encontrado: CAN, indice=4775\n",
      "Campus no encontrado: CAN, indice=4799\n",
      "Pais no encontrado: alpha2=AP, indice=4838\n",
      "5000/5000\r"
     ]
    }
   ],
   "source": [
    "df['srcname'] = ''\n",
    "df['srclat'] = ''\n",
    "df['srclong'] = ''\n",
    "df['dstname'] = ''\n",
    "df['dstlat'] = ''\n",
    "df['dstlong'] = ''\n",
    "a = len(df)\n",
    "for idx in range(a):\n",
    "    print('{}/{}'.format(idx+1,a),end='\\r')\n",
    "    \n",
    "    \"\"\"\n",
    "    Pone el codigo alpha-2 como identificador de source y destiny\n",
    "    \"\"\"\n",
    "    df['dstloc'][idx] = df['device_name'][idx].split('-')[1]\n",
    "    df['srcloc'][idx] = df['srcloc'][idx]['@cc']\n",
    "    \n",
    "    \"\"\"\n",
    "    Si viene como rango de IP, cambia por el default ('MX')\n",
    "    \n",
    "    Checar aqui las ubicaciones del TEC!!!!\n",
    "    \n",
    "    \"\"\"\n",
    "#     if len(df['dstloc'][idx]) > 2:\n",
    "#         #print('{}:{}->\"MX\"'.format(idx,df['dstloc'][idx]))\n",
    "#         df['dstloc'][idx] = df['device_name'][idx].split('-')[1]\n",
    "    if len(df['srcloc'][idx]) > 2:\n",
    "        #print('{}->\"MX\"'.format(df['srcloc'][idx]))\n",
    "        df['srcloc'][idx] = default_country ######################################3\n",
    "    \n",
    "    \"\"\"\n",
    "    Cambia severidad por codigo de colores\n",
    "    \"\"\"\n",
    "    df['severity'][idx] = color_code[df['severity'][idx]]\n",
    "    \n",
    "    \"\"\"\n",
    "    Cambia el nombre del pais de acuerdo al codigo alpha-2\n",
    "    \"\"\"\n",
    "    try:\n",
    "        df['srcname'][idx] = countries[countries['country'] == df['srcloc'][idx]]['name'].reset_index(drop=True)[0]\n",
    "    except:\n",
    "        print('Pais no encontrado: alpha2={}, indice={}'.format(df['srcloc'][idx],idx))\n",
    "        df['srcloc'][idx] = default_country\n",
    "        df['srcname'][idx] = 'INTERNO'\n",
    "        \n",
    "    \"\"\"Ideia: Botar uma flag em caso de que nao seja pais atacado! :D\"\"\"\n",
    "    tmp = Tec[Tec['Campus'] == df['dstloc'][idx]]['Nombre'] #!!!!!!!!!!!!!!!!!\n",
    "    if len(tmp) == 0:\n",
    "        print('Campus no encontrado: {}, indice={}'.format(df['dstloc'][idx],idx))\n",
    "        df['dstname'][idx] = countries[countries['country3'] == df1.iloc[idx]]['name'].reset_index(drop=True)[0]\n",
    "    else:\n",
    "        tmp = tmp.reset_index(drop=True)[0]\n",
    "    df['dstname'][idx] = tmp\n",
    "    \n",
    "\n",
    "    \"\"\"\n",
    "    TODO\n",
    "    Cambia cordinadas de destino de acuerdo al nombre del dispositivo\n",
    "    \"\"\"\n",
    "    tmp = Tec[Tec['Campus'] == df1.iloc[idx]]['longitud']\n",
    "    if len(tmp) == 0:\n",
    "        tmp = countries[countries['country3'] == df['dstloc'][idx]]['longitude'].reset_index(drop=True)[0]\n",
    "    else:\n",
    "        tmp = tmp.reset_index(drop=True)[0]\n",
    "    \n",
    "    df['dstlong'][idx] = tmp\n",
    "    ################# consertar os splits########################l\n",
    "    tmp = Tec[Tec['Campus'] == df1.iloc[idx]]['latitud']\n",
    "    if len(tmp) != 0:\n",
    "        tmp = tmp.reset_index(drop=True)[0]\n",
    "    else:\n",
    "        tmp = countries[countries['country3'] == df['dstloc'][idx]]['latitude'].reset_index(drop=True)[0]\n",
    "    df['dstlat'][idx] = tmp    \n",
    "    \n",
    "    \"\"\"\n",
    "    Cambia cordinadas de fuente \n",
    "    \"\"\"\n",
    "    tmp = str(countries[countries['country'] == df['srcloc'][idx]]['longitude']).split()[1]\n",
    "    df['srclong'][idx] = tmp\n",
    "    tmp = str(countries[countries['country'] == df['srcloc'][idx]]['latitude']).split()[1]\n",
    "    df['srclat'][idx] = tmp    \n",
    "    "
   ]
  },
  {
   "cell_type": "code",
   "execution_count": null,
   "metadata": {},
   "outputs": [],
   "source": []
  },
  {
   "cell_type": "code",
   "execution_count": 112,
   "metadata": {},
   "outputs": [],
   "source": [
    "a = ['device_name',\n",
    " 'direction',\n",
    " 'src',\n",
    " 'srclat',\n",
    " 'srclong',\n",
    " 'srcloc',\n",
    " 'srcname',\n",
    " 'dst',\n",
    " 'dstlat',\n",
    " 'dstlong',\n",
    " 'dstloc',\n",
    " 'dstname',\n",
    " 'severity',\n",
    " 'subtype',\n",
    " 'threatid',\n",
    " 'time_generated']"
   ]
  },
  {
   "cell_type": "code",
   "execution_count": 113,
   "metadata": {},
   "outputs": [],
   "source": [
    "df = df[a]"
   ]
  },
  {
   "cell_type": "code",
   "execution_count": 114,
   "metadata": {},
   "outputs": [],
   "source": [
    "df = df.sort_values('time_generated')"
   ]
  },
  {
   "cell_type": "code",
   "execution_count": 115,
   "metadata": {},
   "outputs": [],
   "source": [
    "df.reset_index(drop=True,inplace=True)"
   ]
  },
  {
   "cell_type": "code",
   "execution_count": 120,
   "metadata": {},
   "outputs": [
    {
     "data": {
      "text/plain": [
       "0                      CEDES\n",
       "1                      CEDES\n",
       "2       Firewall San Nicolás\n",
       "3                      CEDES\n",
       "4                      CEDES\n",
       "5                     Laguna\n",
       "6                  Chihuahua\n",
       "7                      CEDES\n",
       "8             Aguascalientes\n",
       "9             Aguascalientes\n",
       "10                     CEDES\n",
       "11                     CEDES\n",
       "12                    Laguna\n",
       "13                     CEDES\n",
       "14                     CEDES\n",
       "15                     CEDES\n",
       "16                    Laguna\n",
       "17                     CEDES\n",
       "18                     CEDES\n",
       "19                     CEDES\n",
       "20                     CEDES\n",
       "21                     CEDES\n",
       "22                     CEDES\n",
       "23                     CEDES\n",
       "24                     CEDES\n",
       "25            Aguascalientes\n",
       "26                     CEDES\n",
       "27                     CEDES\n",
       "28                   Hidalgo\n",
       "29                     CEDES\n",
       "                ...         \n",
       "4970                   CEDES\n",
       "4971                  Puebla\n",
       "4972                  Puebla\n",
       "4973                   CEDES\n",
       "4974                   CEDES\n",
       "4975                   CEDES\n",
       "4976                   CEDES\n",
       "4977                  Toluca\n",
       "4978                  Toluca\n",
       "4979                   CEDES\n",
       "4980                   CEDES\n",
       "4981                   CEDES\n",
       "4982                   CEDES\n",
       "4983                   CEDES\n",
       "4984                  Puebla\n",
       "4985                   CEDES\n",
       "4986                  Puebla\n",
       "4987                  Puebla\n",
       "4988                   CEDES\n",
       "4989                   CEDES\n",
       "4990                   CEDES\n",
       "4991    Firewall San Nicolás\n",
       "4992                   CEDES\n",
       "4993                   CEDES\n",
       "4994                   CEDES\n",
       "4995                 Hidalgo\n",
       "4996                    León\n",
       "4997                   CEDES\n",
       "4998                   CEDES\n",
       "4999                   CEDES\n",
       "Name: dstname, Length: 5000, dtype: object"
      ]
     },
     "execution_count": 120,
     "metadata": {},
     "output_type": "execute_result"
    }
   ],
   "source": [
    "df['dstname']"
   ]
  },
  {
   "cell_type": "code",
   "execution_count": 125,
   "metadata": {},
   "outputs": [
    {
     "data": {
      "text/plain": [
       "array(['CEDES', 'LEO', 'HGO', 'FW', 'PUE', 'TOL', 'HER', 'LAG', 'ZAC',\n",
       "       'CSF', 'AGS', 'COB', 'CHI', 'SLP', 'CAN', 'VER', 'EGS', 'QRO',\n",
       "       'LAS', 'SAL', 'MRL', 'CVA', 'SAN', 'CDJ', 'PROPOSITO', 'TAM'],\n",
       "      dtype=object)"
      ]
     },
     "execution_count": 125,
     "metadata": {},
     "output_type": "execute_result"
    }
   ],
   "source": [
    "df1.unique()"
   ]
  },
  {
   "cell_type": "code",
   "execution_count": 122,
   "metadata": {},
   "outputs": [
    {
     "data": {
      "text/plain": [
       "'CEDES'"
      ]
     },
     "execution_count": 122,
     "metadata": {},
     "output_type": "execute_result"
    }
   ],
   "source": [
    "idx = 4996\n",
    "df1.iloc[idx]\n",
    "# countries[countries['country3'] == df1.iloc[idx]]"
   ]
  },
  {
   "cell_type": "code",
   "execution_count": 118,
   "metadata": {},
   "outputs": [],
   "source": [
    "df.to_json(os.path.expanduser('~/NorsePi/XML/_LastHour.json'),orient='index')"
   ]
  }
 ],
 "metadata": {
  "kernelspec": {
   "display_name": "Python 3",
   "language": "python",
   "name": "python3"
  },
  "language_info": {
   "codemirror_mode": {
    "name": "ipython",
    "version": 3
   },
   "file_extension": ".py",
   "mimetype": "text/x-python",
   "name": "python",
   "nbconvert_exporter": "python",
   "pygments_lexer": "ipython3",
   "version": "3.6.6"
  }
 },
 "nbformat": 4,
 "nbformat_minor": 2
}
