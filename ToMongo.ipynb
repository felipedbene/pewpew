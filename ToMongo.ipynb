{
 "cells": [
  {
   "cell_type": "code",
   "execution_count": 74,
   "metadata": {},
   "outputs": [],
   "source": [
    "import pandas as pd\n",
    "from pymongo import MongoClient\n",
    "import os\n",
    "import json"
   ]
  },
  {
   "cell_type": "code",
   "execution_count": 79,
   "metadata": {},
   "outputs": [],
   "source": [
    "df = pd.read_json(os.path.expanduser('~/NorsePi/XML/LastHour.json'),orient='index')\n",
    "db = 'TecDatabase'\n",
    "collection = 'Ataques'\n",
    "ip = 'localhost'\n",
    "port = 27017"
   ]
  },
  {
   "cell_type": "code",
   "execution_count": 92,
   "metadata": {},
   "outputs": [],
   "source": [
    "def toMongo(df,ip,port,db,collection,user=None,pw=None):\n",
    "    \"\"\"\n",
    "    Toma un dataframe 'df' y pasa a base de dato con parametros siguientes\n",
    "    \"\"\"\n",
    "    client = MongoClient(host=ip,port=port)\n",
    "    db = client['TecDatabase']\n",
    "    collection = db['Ataques']\n",
    "    data = json.loads(df.to_json(orient='index')).values()\n",
    "    collection.insert_many(data)\n",
    "    client.close()"
   ]
  },
  {
   "cell_type": "code",
   "execution_count": 93,
   "metadata": {},
   "outputs": [],
   "source": [
    "def fromMongo(ip,port,db,collection,user=None,pw=None):\n",
    "    \"\"\"\n",
    "    Carga colección de base Mongo y regresa como dataframe\n",
    "    \"\"\"\n",
    "    client = MongoClient(host=ip,port=port)\n",
    "    db = client['TecDatabase']\n",
    "    collection = db['Ataques']\n",
    "    \n",
    "\n",
    "    return df"
   ]
  },
  {
   "cell_type": "code",
   "execution_count": 94,
   "metadata": {},
   "outputs": [
    {
     "data": {
      "text/plain": [
       "'Ataques'"
      ]
     },
     "execution_count": 94,
     "metadata": {},
     "output_type": "execute_result"
    }
   ],
   "source": []
  },
  {
   "cell_type": "code",
   "execution_count": 95,
   "metadata": {},
   "outputs": [],
   "source": [
    "toMongo(df,ip,port,db,collection)"
   ]
  }
 ],
 "metadata": {
  "kernelspec": {
   "display_name": "Python 3",
   "language": "python",
   "name": "python3"
  },
  "language_info": {
   "codemirror_mode": {
    "name": "ipython",
    "version": 3
   },
   "file_extension": ".py",
   "mimetype": "text/x-python",
   "name": "python",
   "nbconvert_exporter": "python",
   "pygments_lexer": "ipython3",
   "version": "3.6.6"
  }
 },
 "nbformat": 4,
 "nbformat_minor": 2
}
